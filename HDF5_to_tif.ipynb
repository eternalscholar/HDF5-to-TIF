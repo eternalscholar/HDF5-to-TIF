{
  "nbformat": 4,
  "nbformat_minor": 0,
  "metadata": {
    "colab": {
      "name": "HDF5.ipynb",
      "provenance": [],
      "toc_visible": true
    },
    "kernelspec": {
      "name": "python3",
      "display_name": "Python 3"
    }
  },
  "cells": [
    {
      "cell_type": "code",
      "metadata": {
        "id": "VVpNAmSKpyGE",
        "outputId": "c7421b70-10e8-4e12-d43e-4e49d3cc2ae5",
        "colab": {
          "base_uri": "https://localhost:8080/"
        }
      },
      "source": [
        "from google.colab import drive\n",
        "drive.mount('/content/drive', force_remount=True)"
      ],
      "execution_count": 1,
      "outputs": [
        {
          "output_type": "stream",
          "text": [
            "Mounted at /content/drive\n"
          ],
          "name": "stdout"
        }
      ]
    },
    {
      "cell_type": "code",
      "metadata": {
        "id": "L_AXfclz3_Tp"
      },
      "source": [
        "!pip install h5py\n",
        "!pip install xarray\n",
        "!pip install rioxarray"
      ],
      "execution_count": null,
      "outputs": []
    },
    {
      "cell_type": "code",
      "metadata": {
        "id": "1y7MEx_E32Q5"
      },
      "source": [
        "import h5py\n",
        "import xarray as xr\n",
        "import rioxarray as rio"
      ],
      "execution_count": 4,
      "outputs": []
    },
    {
      "cell_type": "code",
      "metadata": {
        "id": "5mh7t5Bb4MM6"
      },
      "source": [
        "f = h5py.File('/content/drive/My Drive/NCSU/Library_works/HDF5_file/GFED4.1s_2016.hdf5', 'r' )"
      ],
      "execution_count": 5,
      "outputs": []
    },
    {
      "cell_type": "code",
      "metadata": {
        "id": "hbGWlzp953G1"
      },
      "source": [
        "list(f.keys())"
      ],
      "execution_count": null,
      "outputs": []
    },
    {
      "cell_type": "code",
      "metadata": {
        "id": "iXVWuG1A8TAw"
      },
      "source": [
        "x = f['burned_area']['06']['burned_fraction'][:]"
      ],
      "execution_count": 7,
      "outputs": []
    },
    {
      "cell_type": "code",
      "metadata": {
        "id": "Q-_avJTCF802"
      },
      "source": [
        "x"
      ],
      "execution_count": null,
      "outputs": []
    },
    {
      "cell_type": "code",
      "metadata": {
        "id": "VasY11L68Vvy"
      },
      "source": [
        "x.shape"
      ],
      "execution_count": null,
      "outputs": []
    },
    {
      "cell_type": "code",
      "metadata": {
        "id": "05yw_pnB9MDY"
      },
      "source": [
        "lon = f['lon'][0,:]"
      ],
      "execution_count": 8,
      "outputs": []
    },
    {
      "cell_type": "code",
      "metadata": {
        "id": "5EwXNoDB9nUO"
      },
      "source": [
        "lat = f['lat'][:,1]"
      ],
      "execution_count": 9,
      "outputs": []
    },
    {
      "cell_type": "code",
      "metadata": {
        "id": "yvpQRmgh_0rY"
      },
      "source": [
        "xr_da = xr.DataArray(x,dims=('lat', 'lon'), coords={'lat':lat,'lon':lon}, attrs={'long_name':'burned_area/06/burned_fraction'}, name='burned_fraction')"
      ],
      "execution_count": 10,
      "outputs": []
    },
    {
      "cell_type": "code",
      "metadata": {
        "id": "Ko5b5bso_5uH"
      },
      "source": [
        "pr = xr_da.rio.set_crs(\"epsg:4326\")\n"
      ],
      "execution_count": 11,
      "outputs": []
    },
    {
      "cell_type": "code",
      "metadata": {
        "id": "1C1bC8gh_8oy"
      },
      "source": [
        "pr = pr.rio.set_spatial_dims('lon', 'lat')\n",
        "pr.rio.to_raster('/content/drive/My Drive/NCSU/Library_works/HDF5_file/GFED4.1s_2018_beta_burned_fraction-June.tif')"
      ],
      "execution_count": 12,
      "outputs": []
    }
  ]
}